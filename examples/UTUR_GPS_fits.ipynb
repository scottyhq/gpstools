{
 "cells": [
  {
   "cell_type": "markdown",
   "metadata": {},
   "source": [
    "# Compare fits to UTUR GPS\n",
    "\n",
    "Check UTUR timeseries for 3 models (simple linear regression, MIDAS, OSU)"
   ]
  },
  {
   "cell_type": "code",
   "execution_count": 1,
   "metadata": {
    "collapsed": false,
    "jupyter": {
     "outputs_hidden": false
    }
   },
   "outputs": [],
   "source": [
    "import matplotlib.pyplot as plt\n",
    "import numpy as np\n",
    "import scipy.optimize \n",
    "import pandas as pd\n",
    "\n",
    "# Set enivronment variable python\n",
    "import os\n",
    "import gpstools as gps"
   ]
  },
  {
   "cell_type": "code",
   "execution_count": 2,
   "metadata": {
    "collapsed": false,
    "jupyter": {
     "outputs_hidden": false
    }
   },
   "outputs": [],
   "source": [
    "%matplotlib inline\n",
    "#%load_ext autoreload\n",
    "#%autoreload 2\n",
    "plt.style.use('seaborn-white')\n",
    "plt.rcParams['font.size'] = 14"
   ]
  },
  {
   "cell_type": "code",
   "execution_count": 3,
   "metadata": {
    "collapsed": false,
    "jupyter": {
     "outputs_hidden": false
    }
   },
   "outputs": [
    {
     "name": "stdout",
     "output_type": "stream",
     "text": [
      "downloading aux files in /Users/scott/GitHub/gpstools/gpstools/auxfiles/ungl\n"
     ]
    }
   ],
   "source": [
    "# Update files from UNGL (http://geodesy.unr.edu/PlugNPlayPortal.php)\n",
    "gps.auxfiles.ungl.update()"
   ]
  },
  {
   "cell_type": "code",
   "execution_count": 4,
   "metadata": {
    "collapsed": false,
    "jupyter": {
     "outputs_hidden": false
    }
   },
   "outputs": [
    {
     "data": {
      "text/html": [
       "<div>\n",
       "<style scoped>\n",
       "    .dataframe tbody tr th:only-of-type {\n",
       "        vertical-align: middle;\n",
       "    }\n",
       "\n",
       "    .dataframe tbody tr th {\n",
       "        vertical-align: top;\n",
       "    }\n",
       "\n",
       "    .dataframe thead th {\n",
       "        text-align: right;\n",
       "    }\n",
       "</style>\n",
       "<table border=\"1\" class=\"dataframe\">\n",
       "  <thead>\n",
       "    <tr style=\"text-align: right;\">\n",
       "      <th></th>\n",
       "      <th>site</th>\n",
       "      <th>lat</th>\n",
       "      <th>lon</th>\n",
       "      <th>height</th>\n",
       "      <th>start</th>\n",
       "      <th>end</th>\n",
       "    </tr>\n",
       "  </thead>\n",
       "  <tbody>\n",
       "    <tr>\n",
       "      <th>17393</th>\n",
       "      <td>UTUR</td>\n",
       "      <td>-22.242</td>\n",
       "      <td>-67.2055</td>\n",
       "      <td>5184.079</td>\n",
       "      <td>2010-04-15</td>\n",
       "      <td>2018-11-11</td>\n",
       "    </tr>\n",
       "  </tbody>\n",
       "</table>\n",
       "</div>"
      ],
      "text/plain": [
       "       site     lat      lon    height      start        end\n",
       "17393  UTUR -22.242 -67.2055  5184.079 2010-04-15 2018-11-11"
      ]
     },
     "execution_count": 4,
     "metadata": {},
     "output_type": "execute_result"
    }
   ],
   "source": [
    "site = 'UTUR'\n",
    "dfS = gps.io.ungl.load_stations('DataHoldings.txt')\n",
    "dfS.query('site == \"UTUR\"')"
   ]
  },
  {
   "cell_type": "code",
   "execution_count": 5,
   "metadata": {},
   "outputs": [
    {
     "name": "stdout",
     "output_type": "stream",
     "text": [
      "Overwriting UTUR\n",
      "Downloading http://geodesy.unr.edu/gps_timeseries/tenv3/IGS14/UTUR.tenv3 ...\n"
     ]
    }
   ],
   "source": [
    "# Download data\n",
    "# http://geodesy.unr.edu/gps_timeseries/tenv3/IGS14/<ssss>.tenv3\n",
    "# http://geodesy.unr.edu/gps_timeseries/tenv3/IGS14/UTUR.tenv3\n",
    "station = 'UTUR'\n",
    "ref= 'IGS14' #could be 'SA' for south american plate reference\n",
    "\n",
    "tenv3 = gps.io.ungl.download_data(station, ref, overwrite=True)"
   ]
  },
  {
   "cell_type": "code",
   "execution_count": 6,
   "metadata": {},
   "outputs": [
    {
     "data": {
      "text/html": [
       "<div>\n",
       "<style scoped>\n",
       "    .dataframe tbody tr th:only-of-type {\n",
       "        vertical-align: middle;\n",
       "    }\n",
       "\n",
       "    .dataframe tbody tr th {\n",
       "        vertical-align: top;\n",
       "    }\n",
       "\n",
       "    .dataframe thead th {\n",
       "        text-align: right;\n",
       "    }\n",
       "</style>\n",
       "<table border=\"1\" class=\"dataframe\">\n",
       "  <thead>\n",
       "    <tr style=\"text-align: right;\">\n",
       "      <th></th>\n",
       "      <th>site</th>\n",
       "      <th>date</th>\n",
       "      <th>decyear</th>\n",
       "      <th>mjd</th>\n",
       "      <th>week</th>\n",
       "      <th>day</th>\n",
       "      <th>reflon</th>\n",
       "      <th>e0</th>\n",
       "      <th>east</th>\n",
       "      <th>n0</th>\n",
       "      <th>north</th>\n",
       "      <th>u0</th>\n",
       "      <th>up</th>\n",
       "      <th>ant</th>\n",
       "      <th>sig_e</th>\n",
       "      <th>sig_n</th>\n",
       "      <th>sig_u</th>\n",
       "      <th>corr_en</th>\n",
       "      <th>corr_eu</th>\n",
       "      <th>corr_nu</th>\n",
       "    </tr>\n",
       "    <tr>\n",
       "      <th>date</th>\n",
       "      <th></th>\n",
       "      <th></th>\n",
       "      <th></th>\n",
       "      <th></th>\n",
       "      <th></th>\n",
       "      <th></th>\n",
       "      <th></th>\n",
       "      <th></th>\n",
       "      <th></th>\n",
       "      <th></th>\n",
       "      <th></th>\n",
       "      <th></th>\n",
       "      <th></th>\n",
       "      <th></th>\n",
       "      <th></th>\n",
       "      <th></th>\n",
       "      <th></th>\n",
       "      <th></th>\n",
       "      <th></th>\n",
       "      <th></th>\n",
       "    </tr>\n",
       "  </thead>\n",
       "  <tbody>\n",
       "    <tr>\n",
       "      <th>2010-04-15</th>\n",
       "      <td>UTUR</td>\n",
       "      <td>10APR15</td>\n",
       "      <td>2010.2861</td>\n",
       "      <td>55301</td>\n",
       "      <td>1579</td>\n",
       "      <td>4</td>\n",
       "      <td>-67.2</td>\n",
       "      <td>-571</td>\n",
       "      <td>-307.315</td>\n",
       "      <td>-2460598</td>\n",
       "      <td>-174.484</td>\n",
       "      <td>5184</td>\n",
       "      <td>71.207</td>\n",
       "      <td>0.0</td>\n",
       "      <td>1.549</td>\n",
       "      <td>1.397</td>\n",
       "      <td>5.576</td>\n",
       "      <td>-85.690</td>\n",
       "      <td>-78.237</td>\n",
       "      <td>59.876</td>\n",
       "    </tr>\n",
       "    <tr>\n",
       "      <th>2010-04-16</th>\n",
       "      <td>UTUR</td>\n",
       "      <td>10APR16</td>\n",
       "      <td>2010.2888</td>\n",
       "      <td>55302</td>\n",
       "      <td>1579</td>\n",
       "      <td>5</td>\n",
       "      <td>-67.2</td>\n",
       "      <td>-571</td>\n",
       "      <td>-309.719</td>\n",
       "      <td>-2460598</td>\n",
       "      <td>-175.221</td>\n",
       "      <td>5184</td>\n",
       "      <td>74.212</td>\n",
       "      <td>0.0</td>\n",
       "      <td>0.916</td>\n",
       "      <td>0.800</td>\n",
       "      <td>3.431</td>\n",
       "      <td>-83.796</td>\n",
       "      <td>-103.165</td>\n",
       "      <td>149.846</td>\n",
       "    </tr>\n",
       "    <tr>\n",
       "      <th>2010-04-17</th>\n",
       "      <td>UTUR</td>\n",
       "      <td>10APR17</td>\n",
       "      <td>2010.2916</td>\n",
       "      <td>55303</td>\n",
       "      <td>1579</td>\n",
       "      <td>6</td>\n",
       "      <td>-67.2</td>\n",
       "      <td>-571</td>\n",
       "      <td>-309.867</td>\n",
       "      <td>-2460598</td>\n",
       "      <td>-177.196</td>\n",
       "      <td>5184</td>\n",
       "      <td>68.189</td>\n",
       "      <td>0.0</td>\n",
       "      <td>0.826</td>\n",
       "      <td>0.741</td>\n",
       "      <td>3.317</td>\n",
       "      <td>-34.627</td>\n",
       "      <td>-54.491</td>\n",
       "      <td>155.604</td>\n",
       "    </tr>\n",
       "    <tr>\n",
       "      <th>2010-04-18</th>\n",
       "      <td>UTUR</td>\n",
       "      <td>10APR18</td>\n",
       "      <td>2010.2943</td>\n",
       "      <td>55304</td>\n",
       "      <td>1580</td>\n",
       "      <td>0</td>\n",
       "      <td>-67.2</td>\n",
       "      <td>-571</td>\n",
       "      <td>-309.335</td>\n",
       "      <td>-2460598</td>\n",
       "      <td>-177.201</td>\n",
       "      <td>5184</td>\n",
       "      <td>72.431</td>\n",
       "      <td>0.0</td>\n",
       "      <td>0.831</td>\n",
       "      <td>0.739</td>\n",
       "      <td>3.159</td>\n",
       "      <td>-73.612</td>\n",
       "      <td>-77.696</td>\n",
       "      <td>113.903</td>\n",
       "    </tr>\n",
       "    <tr>\n",
       "      <th>2010-04-19</th>\n",
       "      <td>UTUR</td>\n",
       "      <td>10APR19</td>\n",
       "      <td>2010.2971</td>\n",
       "      <td>55305</td>\n",
       "      <td>1580</td>\n",
       "      <td>1</td>\n",
       "      <td>-67.2</td>\n",
       "      <td>-571</td>\n",
       "      <td>-309.887</td>\n",
       "      <td>-2460598</td>\n",
       "      <td>-176.984</td>\n",
       "      <td>5184</td>\n",
       "      <td>75.067</td>\n",
       "      <td>0.0</td>\n",
       "      <td>0.856</td>\n",
       "      <td>0.750</td>\n",
       "      <td>3.290</td>\n",
       "      <td>-67.676</td>\n",
       "      <td>-47.060</td>\n",
       "      <td>132.955</td>\n",
       "    </tr>\n",
       "  </tbody>\n",
       "</table>\n",
       "</div>"
      ],
      "text/plain": [
       "            site     date    decyear    mjd  week  day  reflon   e0     east  \\\n",
       "date                                                                           \n",
       "2010-04-15  UTUR  10APR15  2010.2861  55301  1579    4   -67.2 -571 -307.315   \n",
       "2010-04-16  UTUR  10APR16  2010.2888  55302  1579    5   -67.2 -571 -309.719   \n",
       "2010-04-17  UTUR  10APR17  2010.2916  55303  1579    6   -67.2 -571 -309.867   \n",
       "2010-04-18  UTUR  10APR18  2010.2943  55304  1580    0   -67.2 -571 -309.335   \n",
       "2010-04-19  UTUR  10APR19  2010.2971  55305  1580    1   -67.2 -571 -309.887   \n",
       "\n",
       "                 n0    north    u0      up  ant  sig_e  sig_n  sig_u  corr_en  \\\n",
       "date                                                                            \n",
       "2010-04-15 -2460598 -174.484  5184  71.207  0.0  1.549  1.397  5.576  -85.690   \n",
       "2010-04-16 -2460598 -175.221  5184  74.212  0.0  0.916  0.800  3.431  -83.796   \n",
       "2010-04-17 -2460598 -177.196  5184  68.189  0.0  0.826  0.741  3.317  -34.627   \n",
       "2010-04-18 -2460598 -177.201  5184  72.431  0.0  0.831  0.739  3.159  -73.612   \n",
       "2010-04-19 -2460598 -176.984  5184  75.067  0.0  0.856  0.750  3.290  -67.676   \n",
       "\n",
       "            corr_eu  corr_nu  \n",
       "date                          \n",
       "2010-04-15  -78.237   59.876  \n",
       "2010-04-16 -103.165  149.846  \n",
       "2010-04-17  -54.491  155.604  \n",
       "2010-04-18  -77.696  113.903  \n",
       "2010-04-19  -47.060  132.955  "
      ]
     },
     "execution_count": 6,
     "metadata": {},
     "output_type": "execute_result"
    }
   ],
   "source": [
    "# Load into pandas dataframe\n",
    "df = gps.io.ungl.load_tenv3(tenv3)\n",
    "df.head()"
   ]
  },
  {
   "cell_type": "code",
   "execution_count": 7,
   "metadata": {},
   "outputs": [
    {
     "data": {
      "image/png": "[encoded data removed]",
      "text/plain": [
       "<Figure size 612x792 with 3 Axes>"
      ]
     },
     "metadata": {},
     "output_type": "display_data"
    }
   ],
   "source": [
    "gps.plot.components(df, title=f'UNGL - {station} - {ref}')"
   ]
  },
  {
   "cell_type": "markdown",
   "metadata": {},
   "source": [
    "# MIDAS automatic linear velocity "
   ]
  },
  {
   "cell_type": "code",
   "execution_count": 8,
   "metadata": {},
   "outputs": [
    {
     "data": {
      "text/html": [
       "<div>\n",
       "<style scoped>\n",
       "    .dataframe tbody tr th:only-of-type {\n",
       "        vertical-align: middle;\n",
       "    }\n",
       "\n",
       "    .dataframe tbody tr th {\n",
       "        vertical-align: top;\n",
       "    }\n",
       "\n",
       "    .dataframe thead th {\n",
       "        text-align: right;\n",
       "    }\n",
       "</style>\n",
       "<table border=\"1\" class=\"dataframe\">\n",
       "  <thead>\n",
       "    <tr style=\"text-align: right;\">\n",
       "      <th></th>\n",
       "      <th>site</th>\n",
       "      <th>version</th>\n",
       "      <th>start</th>\n",
       "      <th>end</th>\n",
       "      <th>years</th>\n",
       "      <th>epochs</th>\n",
       "      <th>epochs_good</th>\n",
       "      <th>pairs</th>\n",
       "      <th>east</th>\n",
       "      <th>north</th>\n",
       "      <th>...</th>\n",
       "      <th>e0</th>\n",
       "      <th>n0</th>\n",
       "      <th>u0</th>\n",
       "      <th>out_e</th>\n",
       "      <th>out_n</th>\n",
       "      <th>out_u</th>\n",
       "      <th>sig_e</th>\n",
       "      <th>sig_n</th>\n",
       "      <th>sig_u</th>\n",
       "      <th>nsteps</th>\n",
       "    </tr>\n",
       "  </thead>\n",
       "  <tbody>\n",
       "    <tr>\n",
       "      <th>15865</th>\n",
       "      <td>UTUR</td>\n",
       "      <td>MIDAS4</td>\n",
       "      <td>2010.2861</td>\n",
       "      <td>2018.8611</td>\n",
       "      <td>8.575</td>\n",
       "      <td>3128</td>\n",
       "      <td>1856</td>\n",
       "      <td>2141</td>\n",
       "      <td>13.36</td>\n",
       "      <td>16.534</td>\n",
       "      <td>...</td>\n",
       "      <td>-16.885</td>\n",
       "      <td>-0.146</td>\n",
       "      <td>4.489</td>\n",
       "      <td>0.045</td>\n",
       "      <td>0.09</td>\n",
       "      <td>0.067</td>\n",
       "      <td>1.702</td>\n",
       "      <td>1.955</td>\n",
       "      <td>4.424</td>\n",
       "      <td>7</td>\n",
       "    </tr>\n",
       "  </tbody>\n",
       "</table>\n",
       "<p>1 rows × 24 columns</p>\n",
       "</div>"
      ],
      "text/plain": [
       "       site version      start        end  years  epochs  epochs_good  pairs  \\\n",
       "15865  UTUR  MIDAS4  2010.2861  2018.8611  8.575    3128         1856   2141   \n",
       "\n",
       "        east   north  ...      e0     n0     u0  out_e  out_n  out_u  sig_e  \\\n",
       "15865  13.36  16.534  ... -16.885 -0.146  4.489  0.045   0.09  0.067  1.702   \n",
       "\n",
       "       sig_n  sig_u  nsteps  \n",
       "15865  1.955  4.424       7  \n",
       "\n",
       "[1 rows x 24 columns]"
      ]
     },
     "execution_count": 8,
     "metadata": {},
     "output_type": "execute_result"
    }
   ],
   "source": [
    "dfM = gps.io.ungl.load_midas(station=site)\n",
    "dfM"
   ]
  },
  {
   "cell_type": "code",
   "execution_count": 9,
   "metadata": {
    "collapsed": false,
    "jupyter": {
     "outputs_hidden": false
    }
   },
   "outputs": [
    {
     "name": "stdout",
     "output_type": "stream",
     "text": [
      "East: 13.36 mm/yr +/- 0.28 mm/yr\n",
      "North: 16.53 mm/yr +/- 0.33 mm/yr\n",
      "Up: 3.57 mm/yr +/- 0.74 mm/yr\n"
     ]
    }
   ],
   "source": [
    "print('East: {:.2f} mm/yr +/- {:.2f} mm/yr'.format(dfM.east.values[0], dfM.err_e.values[0]))\n",
    "print('North: {:.2f} mm/yr +/- {:.2f} mm/yr'.format(dfM.north.values[0], dfM.err_n.values[0]))\n",
    "print('Up: {:.2f} mm/yr +/- {:.2f} mm/yr'.format(dfM.up.values[0], dfM.err_u.values[0]))"
   ]
  },
  {
   "cell_type": "markdown",
   "metadata": {},
   "source": [
    "# Simple linear regression\n"
   ]
  },
  {
   "cell_type": "code",
   "execution_count": 10,
   "metadata": {},
   "outputs": [
    {
     "data": {
      "text/html": [
       "<div>\n",
       "<style scoped>\n",
       "    .dataframe tbody tr th:only-of-type {\n",
       "        vertical-align: middle;\n",
       "    }\n",
       "\n",
       "    .dataframe tbody tr th {\n",
       "        vertical-align: top;\n",
       "    }\n",
       "\n",
       "    .dataframe thead th {\n",
       "        text-align: right;\n",
       "    }\n",
       "</style>\n",
       "<table border=\"1\" class=\"dataframe\">\n",
       "  <thead>\n",
       "    <tr style=\"text-align: right;\">\n",
       "      <th></th>\n",
       "      <th>site</th>\n",
       "      <th>date</th>\n",
       "      <th>code</th>\n",
       "      <th>thresh_d</th>\n",
       "      <th>distance</th>\n",
       "      <th>mag</th>\n",
       "      <th>id</th>\n",
       "    </tr>\n",
       "  </thead>\n",
       "  <tbody>\n",
       "    <tr>\n",
       "      <th>0</th>\n",
       "      <td>UTUR</td>\n",
       "      <td>2010-07-12</td>\n",
       "      <td>2</td>\n",
       "      <td>223.872</td>\n",
       "      <td>104.579</td>\n",
       "      <td>6.3</td>\n",
       "      <td>usp000hf5z</td>\n",
       "    </tr>\n",
       "    <tr>\n",
       "      <th>1</th>\n",
       "      <td>UTUR</td>\n",
       "      <td>2011-06-20</td>\n",
       "      <td>2</td>\n",
       "      <td>251.189</td>\n",
       "      <td>121.389</td>\n",
       "      <td>6.4</td>\n",
       "      <td>usp000j3fk</td>\n",
       "    </tr>\n",
       "    <tr>\n",
       "      <th>2</th>\n",
       "      <td>UTUR</td>\n",
       "      <td>2014-04-01</td>\n",
       "      <td>2</td>\n",
       "      <td>1995.262</td>\n",
       "      <td>471.823</td>\n",
       "      <td>8.2</td>\n",
       "      <td>usc000nzvd</td>\n",
       "    </tr>\n",
       "    <tr>\n",
       "      <th>3</th>\n",
       "      <td>UTUR</td>\n",
       "      <td>2014-04-03</td>\n",
       "      <td>2</td>\n",
       "      <td>1122.018</td>\n",
       "      <td>387.743</td>\n",
       "      <td>7.7</td>\n",
       "      <td>usc000p27i</td>\n",
       "    </tr>\n",
       "    <tr>\n",
       "      <th>4</th>\n",
       "      <td>UTUR</td>\n",
       "      <td>2015-02-11</td>\n",
       "      <td>2</td>\n",
       "      <td>354.813</td>\n",
       "      <td>110.402</td>\n",
       "      <td>6.7</td>\n",
       "      <td>usc000tp1s</td>\n",
       "    </tr>\n",
       "    <tr>\n",
       "      <th>5</th>\n",
       "      <td>UTUR</td>\n",
       "      <td>2015-09-16</td>\n",
       "      <td>2</td>\n",
       "      <td>2238.721</td>\n",
       "      <td>1127.860</td>\n",
       "      <td>8.3</td>\n",
       "      <td>us20003k7a</td>\n",
       "    </tr>\n",
       "    <tr>\n",
       "      <th>6</th>\n",
       "      <td>UTUR</td>\n",
       "      <td>2017-04-15</td>\n",
       "      <td>2</td>\n",
       "      <td>223.872</td>\n",
       "      <td>125.527</td>\n",
       "      <td>6.3</td>\n",
       "      <td>us10008hu2</td>\n",
       "    </tr>\n",
       "  </tbody>\n",
       "</table>\n",
       "</div>"
      ],
      "text/plain": [
       "   site       date  code  thresh_d  distance  mag          id\n",
       "0  UTUR 2010-07-12     2   223.872   104.579  6.3  usp000hf5z\n",
       "1  UTUR 2011-06-20     2   251.189   121.389  6.4  usp000j3fk\n",
       "2  UTUR 2014-04-01     2  1995.262   471.823  8.2  usc000nzvd\n",
       "3  UTUR 2014-04-03     2  1122.018   387.743  7.7  usc000p27i\n",
       "4  UTUR 2015-02-11     2   354.813   110.402  6.7  usc000tp1s\n",
       "5  UTUR 2015-09-16     2  2238.721  1127.860  8.3  us20003k7a\n",
       "6  UTUR 2017-04-15     2   223.872   125.527  6.3  us10008hu2"
      ]
     },
     "execution_count": 10,
     "metadata": {},
     "output_type": "execute_result"
    }
   ],
   "source": [
    "# Earthquakes and equipment changes for a particular station\n",
    "dfCh, dfEq = gps.io.ungl.load_steps(station=site) #equipment changes or earthquakes\n",
    "dfEq"
   ]
  },
  {
   "cell_type": "code",
   "execution_count": 11,
   "metadata": {},
   "outputs": [
    {
     "data": {
      "text/html": [
       "<div>\n",
       "<style scoped>\n",
       "    .dataframe tbody tr th:only-of-type {\n",
       "        vertical-align: middle;\n",
       "    }\n",
       "\n",
       "    .dataframe tbody tr th {\n",
       "        vertical-align: top;\n",
       "    }\n",
       "\n",
       "    .dataframe thead th {\n",
       "        text-align: right;\n",
       "    }\n",
       "</style>\n",
       "<table border=\"1\" class=\"dataframe\">\n",
       "  <thead>\n",
       "    <tr style=\"text-align: right;\">\n",
       "      <th></th>\n",
       "      <th>site</th>\n",
       "      <th>date</th>\n",
       "      <th>code</th>\n",
       "      <th>thresh_d</th>\n",
       "      <th>distance</th>\n",
       "      <th>mag</th>\n",
       "      <th>id</th>\n",
       "    </tr>\n",
       "  </thead>\n",
       "  <tbody>\n",
       "    <tr>\n",
       "      <th>2</th>\n",
       "      <td>UTUR</td>\n",
       "      <td>2014-04-01</td>\n",
       "      <td>2</td>\n",
       "      <td>1995.262</td>\n",
       "      <td>471.823</td>\n",
       "      <td>8.2</td>\n",
       "      <td>usc000nzvd</td>\n",
       "    </tr>\n",
       "  </tbody>\n",
       "</table>\n",
       "</div>"
      ],
      "text/plain": [
       "   site       date  code  thresh_d  distance  mag          id\n",
       "2  UTUR 2014-04-01     2  1995.262   471.823  8.2  usc000nzvd"
      ]
     },
     "execution_count": 11,
     "metadata": {},
     "output_type": "execute_result"
    }
   ],
   "source": [
    "# Pisagua Earthquake (https://earthquake.usgs.gov/earthquakes/eventpage/usc000nzvd#executive)\n",
    "id_eq = 'usc000nzvd'\n",
    "dfEq.query(\"id == @id_eq\") "
   ]
  },
  {
   "cell_type": "code",
   "execution_count": 12,
   "metadata": {
    "collapsed": false,
    "jupyter": {
     "outputs_hidden": false
    }
   },
   "outputs": [
    {
     "name": "stdout",
     "output_type": "stream",
     "text": [
      "east: 10.61 mm/yr +/- ? mm/yr\n",
      "rmse = 3.48\n",
      "north: 17.51 mm/yr +/- ? mm/yr\n",
      "rmse = 2.63\n",
      "up: 3.80 mm/yr +/- ? mm/yr\n",
      "rmse = 4.54\n"
     ]
    }
   ],
   "source": [
    "for comp in ['east','north','up']:\n",
    "    x = df.decyear\n",
    "    y = df[comp]\n",
    "    z,cov = np.polyfit(x, y, 1, cov=True)\n",
    "    p = np.poly1d(z)\n",
    "    #print(p)\n",
    "    print('{}: {:.2f} mm/yr +/- ? mm/yr'.format(comp, p[1]))\n",
    "    residuals = (p(x) - y)\n",
    "    rmse = np.sqrt((np.sum(residuals**2) / residuals.size))\n",
    "    print('rmse = {:.2f}'.format(rmse))\n",
    "    \n",
    "#all at once\n",
    "dfLinear = gps.analysis.fit_linear(df)"
   ]
  },
  {
   "cell_type": "markdown",
   "metadata": {},
   "source": [
    "# OSU multiparameter fit"
   ]
  },
  {
   "cell_type": "code",
   "execution_count": 13,
   "metadata": {
    "collapsed": false,
    "jupyter": {
     "outputs_hidden": false
    }
   },
   "outputs": [
    {
     "data": {
      "text/plain": [
       "2014.2478"
      ]
     },
     "execution_count": 13,
     "metadata": {},
     "output_type": "execute_result"
    }
   ],
   "source": [
    "# initialize heaviside jump\n",
    "eq = pd.Timestamp('2014-04-01 23:46:47', tz='UTC')\n",
    "tj = gps.io.ungl.decyear2date(eq.strftime('%y%b%d').upper(), inverse=True)\n",
    "tj"
   ]
  },
  {
   "cell_type": "code",
   "execution_count": 14,
   "metadata": {
    "collapsed": false,
    "jupyter": {
     "outputs_hidden": false
    }
   },
   "outputs": [],
   "source": [
    "# create dataframe for storing results\n",
    "sites = ['UTUR']\n",
    "components = ['east','north','up']\n",
    "iterables = [sites, components]\n",
    "index = pd.MultiIndex.from_product(iterables, names=['site','comp'])\n",
    "\n",
    "DF = pd.DataFrame(columns=['t0','xo', 'v', 'b','tj','s1','c1','t1','s2','c2','t2','rmse'], index=index, dtype='f4')"
   ]
  },
  {
   "cell_type": "code",
   "execution_count": 15,
   "metadata": {
    "collapsed": false,
    "jupyter": {
     "outputs_hidden": false
    }
   },
   "outputs": [
    {
     "name": "stdout",
     "output_type": "stream",
     "text": [
      "east: Culled 0 points\n",
      "north: Culled 0 points\n",
      "up: Culled 1 points\n",
      "fitting east...\n",
      "fitting north...\n",
      "fitting up...\n"
     ]
    },
    {
     "name": "stderr",
     "output_type": "stream",
     "text": [
      "<ipython-input-15-a9c47fb517b6>:21: SettingWithCopyWarning: \n",
      "A value is trying to be set on a copy of a slice from a DataFrame.\n",
      "Try using .loc[row_indexer,col_indexer] = value instead\n",
      "\n",
      "See the caveats in the documentation: https://pandas.pydata.org/pandas-docs/stable/user_guide/indexing.html#returning-a-view-versus-a-copy\n",
      "  df['fit_'+comp] = fit\n"
     ]
    }
   ],
   "source": [
    "# Test and plot individual station\n",
    "df = gps.analysis.cull_outliers(df, cols=components) #get rid of really bogus points before fit\n",
    "\n",
    "\n",
    "for comp in components:\n",
    "    print('fitting {}...'.format(comp))\n",
    "    # Fit OSU Model\n",
    "    t0 = df.decyear[0] # intial time [yr]\n",
    "    x0 = df[comp][0] # initial position [m]\n",
    "    v = (df[comp][-1] - df[comp][0]) / (df.decyear[-1] - df.decyear[0])  # trend [m/yr]\n",
    "    b = 0.0  # step jump offset [m]\n",
    "    #tj = #see cell above above\n",
    "    s1 = s2 = c1 = c2 = 0.001 # fourier coefficients [m]\n",
    "    T1 = 1 # fourier period 1 [yr]\n",
    "    T2 = 0.5 #fourier period 2 [yr]\n",
    "    guess = [t0,x0,v,b,tj,s1,c1,s2,c2,T1,T2]\n",
    "\n",
    "    try:\n",
    "        guess = [x0,v,b,s1,c1,s2,c2]\n",
    "        fit,popt,rmse = gps.analysis.invert_osu_knownEQ(df['decyear'], df[comp], tj, guess)\n",
    "        df['fit_'+comp] = fit\n",
    "        # add fixed parameters back into popt\n",
    "        popt = np.insert(popt, [0,3], [t0,tj])\n",
    "        popt = np.append(popt, [T1,T2])\n",
    "        DF.loc[(site,comp),:] = np.append(popt,rmse)\n",
    "    except Exception as e:\n",
    "        print(e)\n",
    "        df['fit_'+comp] = gps.analysis.osu(df.decyear.values, *guess) #plot initial guess\n",
    "        pass\n"
   ]
  },
  {
   "cell_type": "code",
   "execution_count": 16,
   "metadata": {
    "collapsed": false,
    "jupyter": {
     "outputs_hidden": false
    }
   },
   "outputs": [
    {
     "data": {
      "text/html": [
       "<div>\n",
       "<style scoped>\n",
       "    .dataframe tbody tr th:only-of-type {\n",
       "        vertical-align: middle;\n",
       "    }\n",
       "\n",
       "    .dataframe tbody tr th {\n",
       "        vertical-align: top;\n",
       "    }\n",
       "\n",
       "    .dataframe thead th {\n",
       "        text-align: right;\n",
       "    }\n",
       "</style>\n",
       "<table border=\"1\" class=\"dataframe\">\n",
       "  <thead>\n",
       "    <tr style=\"text-align: right;\">\n",
       "      <th></th>\n",
       "      <th></th>\n",
       "      <th>t0</th>\n",
       "      <th>xo</th>\n",
       "      <th>v</th>\n",
       "      <th>b</th>\n",
       "      <th>tj</th>\n",
       "      <th>s1</th>\n",
       "      <th>c1</th>\n",
       "      <th>t1</th>\n",
       "      <th>s2</th>\n",
       "      <th>c2</th>\n",
       "      <th>t2</th>\n",
       "      <th>rmse</th>\n",
       "    </tr>\n",
       "    <tr>\n",
       "      <th>site</th>\n",
       "      <th>comp</th>\n",
       "      <th></th>\n",
       "      <th></th>\n",
       "      <th></th>\n",
       "      <th></th>\n",
       "      <th></th>\n",
       "      <th></th>\n",
       "      <th></th>\n",
       "      <th></th>\n",
       "      <th></th>\n",
       "      <th></th>\n",
       "      <th></th>\n",
       "      <th></th>\n",
       "    </tr>\n",
       "  </thead>\n",
       "  <tbody>\n",
       "    <tr>\n",
       "      <th rowspan=\"3\" valign=\"top\">UTUR</th>\n",
       "      <th>east</th>\n",
       "      <td>2010.2861</td>\n",
       "      <td>-311.2196</td>\n",
       "      <td>12.7505</td>\n",
       "      <td>-12.3078</td>\n",
       "      <td>2014.2478</td>\n",
       "      <td>0.2730</td>\n",
       "      <td>0.6179</td>\n",
       "      <td>-0.5413</td>\n",
       "      <td>0.1638</td>\n",
       "      <td>1.0</td>\n",
       "      <td>0.5</td>\n",
       "      <td>1.5123</td>\n",
       "    </tr>\n",
       "    <tr>\n",
       "      <th>north</th>\n",
       "      <td>2010.2861</td>\n",
       "      <td>-177.7306</td>\n",
       "      <td>16.4288</td>\n",
       "      <td>6.3044</td>\n",
       "      <td>2014.2478</td>\n",
       "      <td>-0.9543</td>\n",
       "      <td>1.5224</td>\n",
       "      <td>0.1806</td>\n",
       "      <td>-0.0777</td>\n",
       "      <td>1.0</td>\n",
       "      <td>0.5</td>\n",
       "      <td>1.6702</td>\n",
       "    </tr>\n",
       "    <tr>\n",
       "      <th>up</th>\n",
       "      <td>2010.2861</td>\n",
       "      <td>75.1741</td>\n",
       "      <td>3.4656</td>\n",
       "      <td>1.8236</td>\n",
       "      <td>2014.2478</td>\n",
       "      <td>-0.5621</td>\n",
       "      <td>-2.7880</td>\n",
       "      <td>0.9407</td>\n",
       "      <td>-0.3055</td>\n",
       "      <td>1.0</td>\n",
       "      <td>0.5</td>\n",
       "      <td>3.9893</td>\n",
       "    </tr>\n",
       "  </tbody>\n",
       "</table>\n",
       "</div>"
      ],
      "text/plain": [
       "                   t0        xo        v        b         tj      s1      c1  \\\n",
       "site comp                                                                      \n",
       "UTUR east   2010.2861 -311.2196  12.7505 -12.3078  2014.2478  0.2730  0.6179   \n",
       "     north  2010.2861 -177.7306  16.4288   6.3044  2014.2478 -0.9543  1.5224   \n",
       "     up     2010.2861   75.1741   3.4656   1.8236  2014.2478 -0.5621 -2.7880   \n",
       "\n",
       "                t1      s2   c2   t2    rmse  \n",
       "site comp                                     \n",
       "UTUR east  -0.5413  0.1638  1.0  0.5  1.5123  \n",
       "     north  0.1806 -0.0777  1.0  0.5  1.6702  \n",
       "     up     0.9407 -0.3055  1.0  0.5  3.9893  "
      ]
     },
     "execution_count": 16,
     "metadata": {},
     "output_type": "execute_result"
    }
   ],
   "source": [
    "pd.set_option('precision', 4) # Limit decimal places!\n",
    "DF.head()"
   ]
  },
  {
   "cell_type": "code",
   "execution_count": 17,
   "metadata": {
    "collapsed": false,
    "jupyter": {
     "outputs_hidden": false
    }
   },
   "outputs": [
    {
     "name": "stdout",
     "output_type": "stream",
     "text": [
      "East: 12.75 mm/yr +/- ? mm/yr\n",
      "North: 16.43 mm/yr +/- ? mm/yr\n",
      "Up: 3.47 mm/yr +/- ? mm/yr\n"
     ]
    }
   ],
   "source": [
    "print('East: {:.2f} mm/yr +/- ? mm/yr'.format(DF.loc[('UTUR','east'),'v']))\n",
    "print('North: {:.2f} mm/yr +/- ? mm/yr'.format(DF.loc[('UTUR','north'),'v']))\n",
    "print('Up: {:.2f} mm/yr +/- ? mm/yr'.format(DF.loc[('UTUR','up'),'v']))"
   ]
  },
  {
   "cell_type": "markdown",
   "metadata": {},
   "source": [
    "# Plot several model fits"
   ]
  },
  {
   "cell_type": "code",
   "execution_count": 18,
   "metadata": {
    "collapsed": false,
    "jupyter": {
     "outputs_hidden": false
    }
   },
   "outputs": [
    {
     "data": {
      "image/png": "[encoded data removed]",
      "text/plain": [
       "<Figure size 612x792 with 3 Axes>"
      ]
     },
     "metadata": {},
     "output_type": "display_data"
    }
   ],
   "source": [
    "dfLinear = df.loc[:, ['fit_up','fit_north','fit_east']]\n",
    "dfMidas = gps.io.ungl.add_midas(df, dfM)\n",
    "\n",
    "gps.plot.all(df, dfSteps=dfEq, dfMidas=dfMidas, dfFit=dfLinear)\n",
    "plt.suptitle(site, y=0.93, fontsize=16)\n",
    "plt.savefig('UTUR.pdf', bbox_inches='tight')"
   ]
  },
  {
   "cell_type": "code",
   "execution_count": null,
   "metadata": {},
   "outputs": [],
   "source": []
  }
 ],
 "metadata": {
  "anaconda-cloud": {},
  "kernelspec": {
   "display_name": "Python 3",
   "language": "python",
   "name": "python3"
  },
  "language_info": {
   "codemirror_mode": {
    "name": "ipython",
    "version": 3
   },
   "file_extension": ".py",
   "mimetype": "text/x-python",
   "name": "python",
   "nbconvert_exporter": "python",
   "pygments_lexer": "ipython3",
   "version": "3.8.5"
  }
 },
 "nbformat": 4,
 "nbformat_minor": 4
}
